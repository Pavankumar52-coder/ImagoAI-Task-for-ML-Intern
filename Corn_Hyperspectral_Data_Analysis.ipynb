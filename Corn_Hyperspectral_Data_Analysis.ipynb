{
  "nbformat": 4,
  "nbformat_minor": 0,
  "metadata": {
    "colab": {
      "provenance": []
    },
    "kernelspec": {
      "name": "python3",
      "display_name": "Python 3"
    },
    "language_info": {
      "name": "python"
    }
  },
  "cells": [
    {
      "cell_type": "code",
      "source": [
        "# Uploading dataset into colab notebook\n",
        "from google.colab import files\n",
        "u = files.upload()"
      ],
      "metadata": {
        "id": "7XPc8l-fPnGM"
      },
      "execution_count": null,
      "outputs": []
    },
    {
      "cell_type": "code",
      "source": [
        "# Loading dataset into DataFrame using pandas\n",
        "import pandas as pd\n",
        "df = pd.read_csv('synthetic_hyperspectral_100bands.csv')"
      ],
      "metadata": {
        "id": "78sQ7hqLQAtY"
      },
      "execution_count": 2,
      "outputs": []
    },
    {
      "cell_type": "code",
      "source": [
        "# Basic data visualization\n",
        "df.head(5)"
      ],
      "metadata": {
        "id": "IL_DtxhpQIyN"
      },
      "execution_count": null,
      "outputs": []
    },
    {
      "cell_type": "code",
      "source": [
        "df.info()"
      ],
      "metadata": {
        "id": "DudhWy4SQK5Y"
      },
      "execution_count": null,
      "outputs": []
    },
    {
      "cell_type": "code",
      "source": [
        "# Checking for null values\n",
        "df.isnull().sum()"
      ],
      "metadata": {
        "id": "dwSgMZ8NQK1-"
      },
      "execution_count": null,
      "outputs": []
    },
    {
      "cell_type": "code",
      "source": [
        "# Using matplotlib and seaborn to visualize whole dataframe\n",
        "import matplotlib.pyplot as plt\n",
        "import seaborn as sns\n",
        "plt.figure(figsize=(15, 5))\n",
        "sns.boxplot(data=df)\n",
        "plt.xticks(rotation=90)\n",
        "plt.show()"
      ],
      "metadata": {
        "id": "BsX_8FUOQR3N"
      },
      "execution_count": null,
      "outputs": []
    },
    {
      "cell_type": "code",
      "source": [
        "# Defining Feature and Target variables X & y\n",
        "X = df.drop('DON_Concentration', axis = 1)\n",
        "y = df['DON_Concentration']"
      ],
      "metadata": {
        "id": "xTqTdWI4RkRl"
      },
      "execution_count": 7,
      "outputs": []
    },
    {
      "cell_type": "code",
      "source": [
        "# Normalizing the numerical data\n",
        "from sklearn.preprocessing import StandardScaler\n",
        "scaler = StandardScaler()\n",
        "X_scaled = scaler.fit_transform(X)"
      ],
      "metadata": {
        "id": "npa9EhnHRpIe"
      },
      "execution_count": 8,
      "outputs": []
    },
    {
      "cell_type": "code",
      "source": [
        "# Visualizing average reflectance using Lineplot\n",
        "avg_reflectance = X.mean(axis=0)\n",
        "plt.figure(figsize=(10, 5))\n",
        "plt.plot(avg_reflectance)\n",
        "plt.title('Average Reflectance Across Wavelength Bands')\n",
        "plt.xlabel('Wavelength Bands')\n",
        "plt.ylabel('Average Reflectance')\n",
        "plt.show()"
      ],
      "metadata": {
        "id": "3U2nsKuzRwa9"
      },
      "execution_count": null,
      "outputs": []
    },
    {
      "cell_type": "code",
      "source": [
        "# Spectral Reflectance visualization using Heatmap\n",
        "plt.figure(figsize=(10, 5))\n",
        "sns.heatmap(X, cmap='summer')\n",
        "plt.title('Heatmap of Spectral Reflectance')\n",
        "plt.xlabel('Wavelength Bands')\n",
        "plt.ylabel('Corn Samples')\n",
        "plt.show()"
      ],
      "metadata": {
        "id": "Wq4iJhT3Rz-T"
      },
      "execution_count": null,
      "outputs": []
    },
    {
      "cell_type": "code",
      "source": [
        "# Reducing dimensions in datframe using PCA(Principle Component Analysis)\n",
        "from sklearn.decomposition import PCA\n",
        "pca = PCA(n_components=10)\n",
        "X_pca = pca.fit_transform(X_scaled)"
      ],
      "metadata": {
        "id": "_z59g0JiSYMN"
      },
      "execution_count": 11,
      "outputs": []
    },
    {
      "cell_type": "code",
      "source": [
        "# Visualizing explained variance of top 10 components\n",
        "explained_variance = pca.explained_variance_ratio_\n",
        "print(f'Explained variance by top 10 principal components: {explained_variance}')"
      ],
      "metadata": {
        "id": "83mkE8f2So0K"
      },
      "execution_count": null,
      "outputs": []
    },
    {
      "cell_type": "code",
      "source": [
        "# Visualizing 2D Scatter plot of PCA\n",
        "plt.figure(figsize=(10, 5))\n",
        "plt.scatter(X_pca[:, 0], X_pca[:, 1], c=y, cmap='cool')\n",
        "plt.title('PCA - 2D Scatter Plot')\n",
        "plt.xlabel('Principal Component 1')\n",
        "plt.ylabel('Principal Component 2')\n",
        "plt.colorbar(label='DON Concentration')\n",
        "plt.show()"
      ],
      "metadata": {
        "id": "AjKyGjQBStep"
      },
      "execution_count": null,
      "outputs": []
    },
    {
      "cell_type": "code",
      "source": [
        "# Reducing the data dimensions using t-SNE(t-distributed Stochastic Neighbor Embedding)\n",
        "from sklearn.manifold import TSNE\n",
        "tsne = TSNE(n_components=2)\n",
        "X_tsne = tsne.fit_transform(X_scaled)"
      ],
      "metadata": {
        "id": "eMmgWFQ-S1ki"
      },
      "execution_count": 14,
      "outputs": []
    },
    {
      "cell_type": "code",
      "source": [
        "# Visualizing t-SNE 2D scatter plot\n",
        "plt.figure(figsize=(10, 5))\n",
        "plt.scatter(X_tsne[:, 0], X_tsne[:, 1], c=y, cmap='summer')\n",
        "plt.title('t-SNE - 2D Scatter Plot')\n",
        "plt.xlabel('t-SNE Component 1')\n",
        "plt.ylabel('t-SNE Component 2')\n",
        "plt.colorbar(label='DON Concentration')\n",
        "plt.show()"
      ],
      "metadata": {
        "id": "S0NfBWAaTD4k"
      },
      "execution_count": null,
      "outputs": []
    },
    {
      "cell_type": "code",
      "source": [
        "# Splitting the dataset into training(80%) and testing(20%) after dimensionality reduction\n",
        "from sklearn.model_selection import train_test_split\n",
        "from sklearn.neural_network import MLPRegressor\n",
        "X_train, X_test, y_train, y_test = train_test_split(X_scaled, y, test_size=0.2, random_state=42)"
      ],
      "metadata": {
        "id": "dc283KNaTTGA"
      },
      "execution_count": 16,
      "outputs": []
    },
    {
      "cell_type": "code",
      "source": [
        "# Training basic MLP Regressor neural network\n",
        "MLP_Model = MLPRegressor(hidden_layer_sizes=(50, 25), max_iter=1000, random_state=30)\n",
        "MLP_Model.fit(X_train, y_train)"
      ],
      "metadata": {
        "id": "3cdbNlkYUBXb"
      },
      "execution_count": null,
      "outputs": []
    },
    {
      "cell_type": "code",
      "source": [
        "# Evaluating model performance using MSE, MAE and R2 Score metrics\n",
        "from sklearn.metrics import mean_absolute_error, mean_squared_error, r2_score\n",
        "y_pred = MLP_Model.predict(X_test)"
      ],
      "metadata": {
        "id": "tyyWycc4UPum"
      },
      "execution_count": 18,
      "outputs": []
    },
    {
      "cell_type": "code",
      "source": [
        "# Printing metric values to check model performance\n",
        "import math\n",
        "mae = mean_absolute_error(y_test, y_pred)\n",
        "rmse = math.sqrt(mean_squared_error(y_test, y_pred))\n",
        "r2 = r2_score(y_test, y_pred)\n",
        "print(f'MAE: {mae}')\n",
        "print(f'RMSE: {rmse}')\n",
        "print(f'R² Score: {r2}')"
      ],
      "metadata": {
        "id": "vqv5usCTUfS9"
      },
      "execution_count": null,
      "outputs": []
    },
    {
      "cell_type": "code",
      "source": [
        "# Visualizing Actual V/S Predicted Values\n",
        "plt.figure(figsize=(10, 5))\n",
        "plt.scatter(y_test, y_pred, alpha=0.7)\n",
        "plt.plot([y.min(), y.max()], [y.min(), y.max()], 'r--')\n",
        "plt.title('Actual vs. Predicted Values')\n",
        "plt.xlabel('Actual Values')\n",
        "plt.ylabel('Predicted Values')\n",
        "plt.show()"
      ],
      "metadata": {
        "id": "HxmtVHQMVhlw"
      },
      "execution_count": null,
      "outputs": []
    },
    {
      "cell_type": "code",
      "source": [
        "# Hyper-parameter tuning using GridSearchCV(cross-validation)\n",
        "from sklearn.model_selection import GridSearchCV\n",
        "param_grid = {'hidden_layer_sizes': [(50, 25), (100, 50)],\n",
        "    'activation': ['relu', 'tanh'],\n",
        "    'solver': ['adam', 'sgd']\n",
        "}"
      ],
      "metadata": {
        "id": "9hpDJw91Vl7n"
      },
      "execution_count": 21,
      "outputs": []
    },
    {
      "cell_type": "code",
      "source": [
        "# GridSearchCV Model Training\n",
        "grid_search = GridSearchCV(MLP_Model, param_grid, cv=3, scoring='neg_mean_absolute_error')\n",
        "grid_search.fit(X_train, y_train)"
      ],
      "metadata": {
        "id": "YxFvKDecWgc-"
      },
      "execution_count": null,
      "outputs": []
    },
    {
      "cell_type": "code",
      "source": [
        "# Printing for best parameters\n",
        "best_params = grid_search.best_params_\n",
        "print(f'Best parameters: {best_params}')"
      ],
      "metadata": {
        "id": "yDiawLm6Wq2q"
      },
      "execution_count": null,
      "outputs": []
    },
    {
      "cell_type": "code",
      "source": [
        "# Printing metrics for GridSearchCV\n",
        "mae = mean_absolute_error(y_test, y_pred)\n",
        "rmse = math.sqrt(mean_squared_error(y_test, y_pred))\n",
        "r2 = r2_score(y_test, y_pred)\n",
        "print(f'MAE: {mae}')\n",
        "print(f'RMSE: {rmse}')\n",
        "print(f'R² Score: {r2}')"
      ],
      "metadata": {
        "id": "ih1VPlwtWuhn"
      },
      "execution_count": null,
      "outputs": []
    },
    {
      "cell_type": "code",
      "source": [
        "# Hyper-Parameter tuning using XGBoost boosting algorithm\n",
        "from xgboost import XGBRegressor\n",
        "# XGBoost model training\n",
        "XGB_Model = XGBRegressor(n_estimators=100, learning_rate=0.1, max_depth=3, random_state=42)\n",
        "XGB_Model.fit(X_train, y_train)"
      ],
      "metadata": {
        "id": "fatFvyw1XW-G"
      },
      "execution_count": null,
      "outputs": []
    },
    {
      "cell_type": "code",
      "source": [
        "# Printing metrics for XGBoost algorithm\n",
        "mae = mean_absolute_error(y_test, y_pred)\n",
        "rmse = math.sqrt(mean_squared_error(y_test, y_pred))\n",
        "r2 = r2_score(y_test, y_pred)\n",
        "print(f'MAE: {mae}')\n",
        "print(f'RMSE: {rmse}')\n",
        "print(f'R² Score: {r2}')"
      ],
      "metadata": {
        "id": "e98NEuQoX9Pv"
      },
      "execution_count": null,
      "outputs": []
    }
  ]
}